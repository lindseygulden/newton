{
 "cells": [
  {
   "cell_type": "markdown",
   "id": "52f13a62",
   "metadata": {},
   "source": [
    "### Newton Voters geocoding"
   ]
  },
  {
   "cell_type": "code",
   "execution_count": 13,
   "id": "8b5cf1d0",
   "metadata": {},
   "outputs": [
    {
     "name": "stdout",
     "output_type": "stream",
     "text": [
      "The jupyter_black extension is already loaded. To reload it, use:\n",
      "  %reload_ext jupyter_black\n"
     ]
    }
   ],
   "source": [
    "import pandas as pd\n",
    "import geopandas as gpd\n",
    "import datetime as dt\n",
    "import matplotlib.pyplot as plt\n",
    "from utils.time import convert_to_datetime\n",
    "from utils.data import contains_text\n",
    "from math import floor\n",
    "import warnings\n",
    "import gender_guesser.detector as gender\n",
    "\n",
    "warnings.filterwarnings(\"ignore\")\n",
    "%load_ext jupyter_black"
   ]
  },
  {
   "cell_type": "markdown",
   "id": "4a88ebec",
   "metadata": {},
   "source": [
    "\n",
    "Newton Shapefiles accessed through\n",
    "https://github.com/NewtonMAGIS/GISData\n",
    "GeoJSON data rare in WGS84, per the github\n",
    "\n",
    "Voter data provided by the Newton City Clerk's office\n",
    "\n",
    "Massachusetts party affilitation information: https://en.wikipedia.org/wiki/Political_parties_and_political_designations_in_Massachusetts\n"
   ]
  },
  {
   "cell_type": "code",
   "execution_count": 2,
   "id": "a9fa425b",
   "metadata": {},
   "outputs": [],
   "source": [
    "RESIDENTS = (\n",
    "    \"/Volumes/T5_External/data/newton/2025.06.06_RESIDENT EXTRACT_207RES_336727.csv\"\n",
    ")\n",
    "VOTERS = \"/Volumes/T5_External/data/newton/2025.06.06_VOTER EXTRACT.csv\"\n",
    "STREETS = (\n",
    "    \"/Volumes/T5_External/data/newton/map/GISData/Streets/StreetCenterLines.geojson\"\n",
    ")\n",
    "ADDRESSES = \"/Volumes/T5_External/data/newton/map/GISData/Addresses/Addresses.geojson\"\n",
    "WARDS = (\n",
    "    \"/Volumes/T5_External/data/newton/map/GISData/Wards and Precincts/Precincts.geojson\"\n",
    ")\n",
    "POLLING = \"/Volumes/T5_External/data/newton/map/GISData/Polling Locations/PollingLocations.geojson\"\n",
    "BUILDINGS = \"/Volumes/T5_External/data/newton/map/GISData/Buildings/Buildings.geojson\"\n",
    "PARTIES = \"/Volumes/T5_External/data/newton/massachusetts_voter_affiliations.csv\""
   ]
  },
  {
   "cell_type": "code",
   "execution_count": 3,
   "id": "9bdf9685",
   "metadata": {},
   "outputs": [],
   "source": [
    "# get all residents data\n",
    "residents_df = pd.read_csv(RESIDENTS, low_memory=False, index_col=[0])\n",
    "residents_df.columns = [\n",
    "    x.lower().strip().replace(\" \", \"_\").replace(\"-\", \"\").replace(\"__\", \"_\")\n",
    "    for x in residents_df.columns.values\n",
    "]\n",
    "\n",
    "# get voter data (subset of residnets)\n",
    "voter_df = pd.read_csv(VOTERS, low_memory=False, index_col=[0])\n",
    "voter_df.columns = [\n",
    "    x.lower().strip().replace(\" \", \"_\").replace(\"-\", \"\").replace(\"__\", \"_\")\n",
    "    for x in voter_df.columns.values\n",
    "]\n",
    "\n",
    "# add nationality and occupation to voter data (from residents), when available\n",
    "voter_df = voter_df.merge(\n",
    "    residents_df[[\"resident_id_number\", \"occupation\", \"nationality\"]],\n",
    "    left_on=[\"voter_id_number\"],\n",
    "    right_on=[\"resident_id_number\"],\n",
    "    how=\"left\",\n",
    ")"
   ]
  },
  {
   "cell_type": "code",
   "execution_count": 4,
   "id": "e8b556df",
   "metadata": {},
   "outputs": [],
   "source": [
    "# add spelled out party definitions\n",
    "party_df = pd.read_csv(PARTIES)\n",
    "voter_df[\"party_affiliation\"] = [x.strip() for x in voter_df.party_affiliation]\n",
    "voter_df = voter_df.merge(\n",
    "    party_df, left_on=\"party_affiliation\", right_on=[\"ma_abbreviation\"], how=\"left\"\n",
    ")\n",
    "\n",
    "liberal = [\n",
    "    \"Democratic Party\",\n",
    "    \"Green Party USA\",\n",
    "    \"Green-Rainbow Party\",\n",
    "    \"Latino-Vote Party\",\n",
    "    \"New Alliance Party\",\n",
    "    \"Pirate\",\n",
    "    \"Rainbow Coalition\",\n",
    "    \"Socialist\",\n",
    "    \"People's Party\",\n",
    "    \"Workers Party\",\n",
    "    \"Working Families\",\n",
    "]\n",
    "conservative = [\n",
    "    \"Republican Party\",\n",
    "    \"Libertarian\",\n",
    "    \"America First Party\",\n",
    "    \"American Independent Party\",\n",
    "    \"American Term Limits\",\n",
    "    \"Conservative Party\",\n",
    "    \"Constitution Party\",\n",
    "    \"Prohibition Party\",\n",
    "    \"Reform Party\",\n",
    "    \"Veterans Party America\",\n",
    "]\n",
    "\n",
    "voter_df[\"politics\"] = \"middle/unknown\"\n",
    "voter_df[\"politics\"] = [\n",
    "    \"right\" if x in conservative else v\n",
    "    for x, v in zip(voter_df.party_name, voter_df.politics)\n",
    "]\n",
    "voter_df[\"politics\"] = [\n",
    "    \"left\" if x in liberal else v\n",
    "    for x, v in zip(voter_df.party_name, voter_df.politics)\n",
    "]"
   ]
  },
  {
   "cell_type": "code",
   "execution_count": 5,
   "id": "2d345536",
   "metadata": {},
   "outputs": [],
   "source": [
    "# get address spatial info\n",
    "address_gdf = gpd.read_file(ADDRESSES)\n",
    "address_gdf.columns = [\n",
    "    x.lower().strip().replace(\" \", \"_\").replace(\"-\", \"\").replace(\"__\", \"_\")\n",
    "    for x in address_gdf.columns.values\n",
    "]\n",
    "\n",
    "# fill in nan data for merging\n",
    "address_gdf.streetname.fillna(\" \", inplace=True)\n",
    "address_gdf.posttype.fillna(\" \", inplace=True)\n",
    "address_gdf[\"full_street\"] = [\n",
    "    n + \" \" + p for n, p in zip(address_gdf.streetname, address_gdf.posttype)\n",
    "]\n",
    "# get buildling data\n",
    "buildings_gdf = gpd.read_file(BUILDINGS)\n",
    "buildings_gdf.columns = [\n",
    "    x.lower().strip().replace(\" \", \"_\").replace(\"-\", \"\").replace(\"__\", \"_\")\n",
    "    for x in buildings_gdf.columns.values\n",
    "]\n",
    "# merge with building type\n",
    "address_gdf = address_gdf.merge(\n",
    "    buildings_gdf[[\"ownership\", \"complex\", \"addressid\", \"shape_area\", \"labeltext\"]],\n",
    "    on=\"addressid\",\n",
    ")\n",
    "# subset to just residential\n",
    "residential_gdf = address_gdf.loc[address_gdf.addresstype == \"Residential\"]"
   ]
  },
  {
   "cell_type": "code",
   "execution_count": 6,
   "id": "74087c37",
   "metadata": {},
   "outputs": [],
   "source": [
    "# merge voter data with residential address geodataframe: make voter geodataframe\n",
    "voter_basic_gdf = gpd.GeoDataFrame(\n",
    "    voter_df.merge(\n",
    "        residential_gdf[\n",
    "            [\n",
    "                \"number\",\n",
    "                \"fullstname\",\n",
    "                \"streetname\",\n",
    "                \"full_street\",\n",
    "                \"addressid\",\n",
    "                \"source\",\n",
    "                \"status\",\n",
    "                \"locationtype\",\n",
    "                \"complex\",  # for names of complex gives name\n",
    "                \"ownership\",  # most are private ... a few others\n",
    "                \"labeltext\",  # gives indication if a multifamily\n",
    "                \"shape_area\",  # buildling area\n",
    "                \"geometry\",\n",
    "            ]\n",
    "        ].drop_duplicates(),\n",
    "        left_on=[\n",
    "            \"residential_address_street_number\",\n",
    "            \"residential_address_street_name\",\n",
    "        ],\n",
    "        right_on=[\"number\", \"fullstname\"],\n",
    "        how=\"left\",\n",
    "    ),\n",
    "    geometry=\"geometry\",\n",
    ")"
   ]
  },
  {
   "cell_type": "code",
   "execution_count": 7,
   "id": "1e1e3a25",
   "metadata": {},
   "outputs": [],
   "source": [
    "# Merge with ward and precinct info\n",
    "ward_gdf = gpd.read_file(WARDS)\n",
    "ward_gdf.columns = [x.lower() for x in ward_gdf]\n",
    "voter_ward_gdf = gpd.sjoin(voter_basic_gdf, ward_gdf, predicate=\"within\")"
   ]
  },
  {
   "cell_type": "code",
   "execution_count": 8,
   "id": "3a0331df",
   "metadata": {},
   "outputs": [],
   "source": [
    "# add polling place\n",
    "polling_gdf = gpd.read_file(POLLING)\n",
    "polling_gdf.columns = [\"polling_\" + x.lower() for x in polling_gdf.columns.values]\n",
    "voter_gdf = voter_ward_gdf.merge(polling_gdf, left_on=\"wp\", right_on=\"polling_precinct\")"
   ]
  },
  {
   "cell_type": "code",
   "execution_count": 9,
   "id": "89f91b54",
   "metadata": {},
   "outputs": [],
   "source": [
    "# identify uber rich\n",
    "\n",
    "# multifamily\n",
    "for c in [\"labeltext\", \"residential_address_apartment_number\"]:\n",
    "    voter_gdf[c] = voter_gdf[c].fillna(\"\")\n",
    "\n",
    "voter_gdf[\"multifamily\"] = [\n",
    "    1 if (\"-\" in x) | (a != \"\") | ((c != \"\") & (c != \" \")) else 0\n",
    "    for x, a, c in zip(\n",
    "        voter_gdf.labeltext,\n",
    "        voter_gdf.residential_address_apartment_number,\n",
    "        voter_gdf.complex,\n",
    "    )\n",
    "]\n",
    "voter_gdf[\"big_single_family\"] = [\n",
    "    1 if (m == 0) & (a > 2735.7) & (own == \"Private\") else 0\n",
    "    for m, a, own in zip(\n",
    "        voter_gdf.multifamily, voter_gdf.shape_area, voter_gdf.ownership\n",
    "    )\n",
    "]"
   ]
  },
  {
   "cell_type": "code",
   "execution_count": null,
   "id": "865b0904",
   "metadata": {},
   "outputs": [],
   "source": [
    "street_gdf = gpd.read_file(STREETS)"
   ]
  },
  {
   "cell_type": "code",
   "execution_count": null,
   "id": "85c16ff1",
   "metadata": {},
   "outputs": [],
   "source": [
    "#voter_gdf = gpd.read_file(\"~/Desktop/voters.geojson\")"
   ]
  },
  {
   "cell_type": "code",
   "execution_count": null,
   "id": "49cff267",
   "metadata": {},
   "outputs": [],
   "source": [
    "voter_gdf.fillna(\"\", inplace=True)\n",
    "fig, ax = plt.subplots(1, 1, figsize=(16, 16))\n",
    "street_gdf.plot(ax=ax)\n",
    "voter_gdf.plot(\n",
    "    ax=ax,\n",
    "    column=\"politics\",\n",
    "    cmap=\"bwr\",\n",
    "    markersize=3,\n",
    "    edgecolor=\"k\",\n",
    "    lw=0.2,\n",
    "    legend=True,\n",
    ")\n"
   ]
  },
  {
   "cell_type": "code",
   "execution_count": 10,
   "id": "5800f5d8",
   "metadata": {},
   "outputs": [],
   "source": [
    "# Get the lat and lon for plotly/dash\n",
    "voter_gdf[\"lat\"] = voter_gdf[\"geometry\"].y\n",
    "voter_gdf[\"lon\"] = voter_gdf[\"geometry\"].x"
   ]
  },
  {
   "cell_type": "code",
   "execution_count": 11,
   "id": "0d68d708",
   "metadata": {},
   "outputs": [],
   "source": [
    "# combine fields for easier data access\n",
    "for c in [\"number\", \"fullstname\", \"first_name\", \"last_name\"]:\n",
    "    voter_gdf[c].fillna(\" \", inplace=True)\n",
    "\n",
    "voter_gdf[\"address\"] = [\n",
    "    str(n) + \" \" + s for n, s in zip(voter_gdf[\"number\"], voter_gdf[\"fullstname\"])\n",
    "]\n",
    "voter_gdf[\"fullname\"] = [\n",
    "    f + \" \" + l for f, l in zip(voter_gdf[\"first_name\"], voter_gdf[\"last_name\"])\n",
    "]"
   ]
  },
  {
   "cell_type": "code",
   "execution_count": null,
   "id": "b440d97d",
   "metadata": {},
   "outputs": [],
   "source": []
  },
  {
   "cell_type": "code",
   "execution_count": 12,
   "id": "77cd31be",
   "metadata": {},
   "outputs": [],
   "source": [
    "# get age on election day\n",
    "\n",
    "voter_gdf[\"age_on_election_day\"] = [\n",
    "    (\n",
    "        (\n",
    "            dt.datetime(2025, 11, 4) - convert_to_datetime(x, fmt=\"%m/%d/%y\")\n",
    "        ).total_seconds()\n",
    "        / (365.25 * 24 * 60 * 60)\n",
    "    )\n",
    "    for x in voter_gdf.date_of_birth\n",
    "]\n",
    "\n",
    "voter_gdf[\"age_on_election_day\"] = voter_gdf[\"age_on_election_day\"].apply(floor)\n",
    "# make hacky correction to the less-than-0 ages, which we assume are actually just two-digit year errors (note this doesn't actualy solve the problem)\n",
    "voter_gdf[\"age_on_election_day\"] = [\n",
    "    100 + a if a <= 0 else a for a in voter_gdf[\"age_on_election_day\"]\n",
    "]"
   ]
  },
  {
   "cell_type": "code",
   "execution_count": null,
   "id": "98da409a",
   "metadata": {},
   "outputs": [],
   "source": []
  },
  {
   "cell_type": "code",
   "execution_count": 14,
   "id": "6d6e00d1",
   "metadata": {},
   "outputs": [],
   "source": [
    "voter_gdf.occupation.fillna(\"\", inplace=True)\n",
    "education_professions = [\n",
    "    \"educator\",\n",
    "    \"school\",\n",
    "    \"teacher\",\n",
    "    \"professor\",\n",
    "    \"instructor\",\n",
    "    \"principal\",\n",
    "]\n",
    "helping_professions = [\n",
    "    \"social\",\n",
    "    \"soc service\",\n",
    "    \"nurse\",\n",
    "    \"counselor\",\n",
    "    \"police\",\n",
    "    \"fire\",\n",
    "    \"clergy\",\n",
    "    \"nun\",\n",
    "]\n",
    "finance_professions = [\n",
    "    \"finance\",\n",
    "    \"financial\",\n",
    "    \"broker\",\n",
    "    \"stock trader\",\n",
    "    \"capital\",\n",
    "    \"equity\",\n",
    "    \"cfo\",\n",
    "    \"private\",\n",
    "]\n",
    "muckity_mucks = [\"executive\", \"president\", \"chairman\", \"ceo\", \"CHIEF EXEC OFF\"]\n",
    "\n",
    "voter_gdf[\"educator\"] = [\n",
    "    (1 if contains_text(x, education_professions) else 0) for x in voter_gdf.occupation\n",
    "]\n",
    "\n",
    "voter_gdf[\"helping\"] = [\n",
    "    (1 if contains_text(x, helping_professions) else 0) for x in voter_gdf.occupation\n",
    "]\n",
    "voter_gdf[\"finance\"] = [\n",
    "    (1 if contains_text(x, finance_professions) else 0) for x in voter_gdf.occupation\n",
    "]\n",
    "voter_gdf[\"muckity_muck\"] = [\n",
    "    (1 if contains_text(x, muckity_mucks) else 0) for x in voter_gdf.occupation\n",
    "]"
   ]
  },
  {
   "cell_type": "code",
   "execution_count": 15,
   "id": "ca341034",
   "metadata": {},
   "outputs": [],
   "source": [
    "# get voter gender\n",
    "voter_gdf.first_name.fillna(\"\", inplace=True)\n",
    "d = gender.Detector()\n",
    "voter_gdf[\"gender\"] = [d.get_gender(x.title()) for x in voter_gdf.first_name]"
   ]
  },
  {
   "cell_type": "code",
   "execution_count": 16,
   "id": "ff9ede18",
   "metadata": {},
   "outputs": [],
   "source": [
    "voter_gdf[\"men_over_60\"] = [\n",
    "    1 if (a > 60) & (g == \"male\") else 0\n",
    "    for a, g in zip(voter_gdf.age_on_election_day, voter_gdf.gender)\n",
    "]\n",
    "voter_gdf[\"women\"] = [\n",
    "    1 if (g == \"female\") | (g == \"mostly_female\") else 0 for g in voter_gdf.gender\n",
    "]"
   ]
  },
  {
   "cell_type": "markdown",
   "id": "533cfae7",
   "metadata": {},
   "source": [
    "## Write out"
   ]
  },
  {
   "cell_type": "code",
   "execution_count": 18,
   "id": "6fd95ee0",
   "metadata": {},
   "outputs": [],
   "source": [
    "voter_gdf = voter_gdf[\n",
    "    [\n",
    "        \"addressid\",\n",
    "        \"voter_id_number\",\n",
    "        \"fullname\",\n",
    "        \"first_name\",\n",
    "        \"address\",\n",
    "        \"residential_address_apartment_number\",\n",
    "        \"party_affiliation\",\n",
    "        \"age_on_election_day\",\n",
    "        \"ward\",\n",
    "        \"precinct\",\n",
    "        \"occupation\",\n",
    "        \"nationality\",\n",
    "        \"party_name\",\n",
    "        \"politics\",\n",
    "        \"polling_location\",\n",
    "        \"big_single_family\",\n",
    "        \"educator\",\n",
    "        \"finance\",\n",
    "        \"muckity_muck\",\n",
    "        \"helping\",\n",
    "        \"multifamily\",\n",
    "        \"men_over_60\",\n",
    "        \"women\",\n",
    "        \"gender\",\n",
    "        \"geometry\",\n",
    "        \"lat\",\n",
    "        \"lon\",\n",
    "    ]\n",
    "]"
   ]
  },
  {
   "cell_type": "code",
   "execution_count": 19,
   "id": "0b6af5f4",
   "metadata": {},
   "outputs": [],
   "source": [
    "voter_gdf.drop(\"geometry\", axis=1).to_csv(\"~/Desktop/voters.csv\")\n",
    "voter_gdf.to_file(\"~/Desktop/voters.geojson\")"
   ]
  },
  {
   "cell_type": "code",
   "execution_count": null,
   "id": "b944b193",
   "metadata": {},
   "outputs": [],
   "source": [
    "voter_gdf.loc[voter_gdf.fullname == \"PAUL LEVY\"].occupation"
   ]
  },
  {
   "cell_type": "code",
   "execution_count": null,
   "id": "9f3191bc",
   "metadata": {},
   "outputs": [],
   "source": [
    "voter_gdf[[\"vp\" in x.lower() for x in voter_gdf.occupation]].gender.value_counts()"
   ]
  },
  {
   "cell_type": "code",
   "execution_count": null,
   "id": "1e031745",
   "metadata": {},
   "outputs": [],
   "source": []
  },
  {
   "cell_type": "code",
   "execution_count": null,
   "id": "0fd5f6f0",
   "metadata": {},
   "outputs": [],
   "source": [
    "voter_gdf.loc[voter_gdf.gender == \"mostly_female\"].first_name"
   ]
  },
  {
   "cell_type": "code",
   "execution_count": null,
   "id": "d7adb34c",
   "metadata": {},
   "outputs": [],
   "source": [
    "\n"
   ]
  },
  {
   "cell_type": "code",
   "execution_count": null,
   "id": "d5a153ec",
   "metadata": {},
   "outputs": [],
   "source": []
  }
 ],
 "metadata": {
  "kernelspec": {
   "display_name": ".venv",
   "language": "python",
   "name": ".venv"
  },
  "language_info": {
   "codemirror_mode": {
    "name": "ipython",
    "version": 3
   },
   "file_extension": ".py",
   "mimetype": "text/x-python",
   "name": "python",
   "nbconvert_exporter": "python",
   "pygments_lexer": "ipython3",
   "version": "3.11.7"
  }
 },
 "nbformat": 4,
 "nbformat_minor": 5
}
